{
 "cells": [
  {
   "cell_type": "code",
   "execution_count": 44,
   "id": "2d7cc3db",
   "metadata": {},
   "outputs": [],
   "source": [
    "import tensorflow as tf\n",
    "import numpy as np\n",
    "from  tensorflow.keras.datasets import imdb\n",
    "from  tensorflow.keras.preprocessing import sequence\n",
    "from  tensorflow.keras.models import load_model"
   ]
  },
  {
   "cell_type": "code",
   "execution_count": 45,
   "id": "e3fc51a0",
   "metadata": {},
   "outputs": [],
   "source": [
    "##  import dataset with word index\n",
    "\n",
    "word_index = imdb.get_word_index()\n",
    "reverse_word_index = {value: key for key, value in word_index.items()}"
   ]
  },
  {
   "cell_type": "code",
   "execution_count": 46,
   "id": "d57f8337",
   "metadata": {},
   "outputs": [
    {
     "name": "stderr",
     "output_type": "stream",
     "text": [
      "WARNING:absl:Compiled the loaded model, but the compiled metrics have yet to be built. `model.compile_metrics` will be empty until you train or evaluate the model.\n"
     ]
    },
    {
     "data": {
      "text/html": [
       "<pre style=\"white-space:pre;overflow-x:auto;line-height:normal;font-family:Menlo,'DejaVu Sans Mono',consolas,'Courier New',monospace\"><span style=\"font-weight: bold\">Model: \"sequential\"</span>\n",
       "</pre>\n"
      ],
      "text/plain": [
       "\u001b[1mModel: \"sequential\"\u001b[0m\n"
      ]
     },
     "metadata": {},
     "output_type": "display_data"
    },
    {
     "data": {
      "text/html": [
       "<pre style=\"white-space:pre;overflow-x:auto;line-height:normal;font-family:Menlo,'DejaVu Sans Mono',consolas,'Courier New',monospace\">┏━━━━━━━━━━━━━━━━━━━━━━━━━━━━━━━━━┳━━━━━━━━━━━━━━━━━━━━━━━━┳━━━━━━━━━━━━━━━┓\n",
       "┃<span style=\"font-weight: bold\"> Layer (type)                    </span>┃<span style=\"font-weight: bold\"> Output Shape           </span>┃<span style=\"font-weight: bold\">       Param # </span>┃\n",
       "┡━━━━━━━━━━━━━━━━━━━━━━━━━━━━━━━━━╇━━━━━━━━━━━━━━━━━━━━━━━━╇━━━━━━━━━━━━━━━┩\n",
       "│ embedding (<span style=\"color: #0087ff; text-decoration-color: #0087ff\">Embedding</span>)           │ (<span style=\"color: #00d7ff; text-decoration-color: #00d7ff\">None</span>, <span style=\"color: #00af00; text-decoration-color: #00af00\">500</span>, <span style=\"color: #00af00; text-decoration-color: #00af00\">128</span>)       │     <span style=\"color: #00af00; text-decoration-color: #00af00\">1,280,000</span> │\n",
       "├─────────────────────────────────┼────────────────────────┼───────────────┤\n",
       "│ simple_rnn (<span style=\"color: #0087ff; text-decoration-color: #0087ff\">SimpleRNN</span>)          │ (<span style=\"color: #00d7ff; text-decoration-color: #00d7ff\">None</span>, <span style=\"color: #00af00; text-decoration-color: #00af00\">128</span>)            │        <span style=\"color: #00af00; text-decoration-color: #00af00\">32,896</span> │\n",
       "├─────────────────────────────────┼────────────────────────┼───────────────┤\n",
       "│ dense (<span style=\"color: #0087ff; text-decoration-color: #0087ff\">Dense</span>)                   │ (<span style=\"color: #00d7ff; text-decoration-color: #00d7ff\">None</span>, <span style=\"color: #00af00; text-decoration-color: #00af00\">1</span>)              │           <span style=\"color: #00af00; text-decoration-color: #00af00\">129</span> │\n",
       "└─────────────────────────────────┴────────────────────────┴───────────────┘\n",
       "</pre>\n"
      ],
      "text/plain": [
       "┏━━━━━━━━━━━━━━━━━━━━━━━━━━━━━━━━━┳━━━━━━━━━━━━━━━━━━━━━━━━┳━━━━━━━━━━━━━━━┓\n",
       "┃\u001b[1m \u001b[0m\u001b[1mLayer (type)                   \u001b[0m\u001b[1m \u001b[0m┃\u001b[1m \u001b[0m\u001b[1mOutput Shape          \u001b[0m\u001b[1m \u001b[0m┃\u001b[1m \u001b[0m\u001b[1m      Param #\u001b[0m\u001b[1m \u001b[0m┃\n",
       "┡━━━━━━━━━━━━━━━━━━━━━━━━━━━━━━━━━╇━━━━━━━━━━━━━━━━━━━━━━━━╇━━━━━━━━━━━━━━━┩\n",
       "│ embedding (\u001b[38;5;33mEmbedding\u001b[0m)           │ (\u001b[38;5;45mNone\u001b[0m, \u001b[38;5;34m500\u001b[0m, \u001b[38;5;34m128\u001b[0m)       │     \u001b[38;5;34m1,280,000\u001b[0m │\n",
       "├─────────────────────────────────┼────────────────────────┼───────────────┤\n",
       "│ simple_rnn (\u001b[38;5;33mSimpleRNN\u001b[0m)          │ (\u001b[38;5;45mNone\u001b[0m, \u001b[38;5;34m128\u001b[0m)            │        \u001b[38;5;34m32,896\u001b[0m │\n",
       "├─────────────────────────────────┼────────────────────────┼───────────────┤\n",
       "│ dense (\u001b[38;5;33mDense\u001b[0m)                   │ (\u001b[38;5;45mNone\u001b[0m, \u001b[38;5;34m1\u001b[0m)              │           \u001b[38;5;34m129\u001b[0m │\n",
       "└─────────────────────────────────┴────────────────────────┴───────────────┘\n"
      ]
     },
     "metadata": {},
     "output_type": "display_data"
    },
    {
     "data": {
      "text/html": [
       "<pre style=\"white-space:pre;overflow-x:auto;line-height:normal;font-family:Menlo,'DejaVu Sans Mono',consolas,'Courier New',monospace\"><span style=\"font-weight: bold\"> Total params: </span><span style=\"color: #00af00; text-decoration-color: #00af00\">1,313,027</span> (5.01 MB)\n",
       "</pre>\n"
      ],
      "text/plain": [
       "\u001b[1m Total params: \u001b[0m\u001b[38;5;34m1,313,027\u001b[0m (5.01 MB)\n"
      ]
     },
     "metadata": {},
     "output_type": "display_data"
    },
    {
     "data": {
      "text/html": [
       "<pre style=\"white-space:pre;overflow-x:auto;line-height:normal;font-family:Menlo,'DejaVu Sans Mono',consolas,'Courier New',monospace\"><span style=\"font-weight: bold\"> Trainable params: </span><span style=\"color: #00af00; text-decoration-color: #00af00\">1,313,025</span> (5.01 MB)\n",
       "</pre>\n"
      ],
      "text/plain": [
       "\u001b[1m Trainable params: \u001b[0m\u001b[38;5;34m1,313,025\u001b[0m (5.01 MB)\n"
      ]
     },
     "metadata": {},
     "output_type": "display_data"
    },
    {
     "data": {
      "text/html": [
       "<pre style=\"white-space:pre;overflow-x:auto;line-height:normal;font-family:Menlo,'DejaVu Sans Mono',consolas,'Courier New',monospace\"><span style=\"font-weight: bold\"> Non-trainable params: </span><span style=\"color: #00af00; text-decoration-color: #00af00\">0</span> (0.00 B)\n",
       "</pre>\n"
      ],
      "text/plain": [
       "\u001b[1m Non-trainable params: \u001b[0m\u001b[38;5;34m0\u001b[0m (0.00 B)\n"
      ]
     },
     "metadata": {},
     "output_type": "display_data"
    },
    {
     "data": {
      "text/html": [
       "<pre style=\"white-space:pre;overflow-x:auto;line-height:normal;font-family:Menlo,'DejaVu Sans Mono',consolas,'Courier New',monospace\"><span style=\"font-weight: bold\"> Optimizer params: </span><span style=\"color: #00af00; text-decoration-color: #00af00\">2</span> (12.00 B)\n",
       "</pre>\n"
      ],
      "text/plain": [
       "\u001b[1m Optimizer params: \u001b[0m\u001b[38;5;34m2\u001b[0m (12.00 B)\n"
      ]
     },
     "metadata": {},
     "output_type": "display_data"
    }
   ],
   "source": [
    "##  load pre=trained model with relu Activation \n",
    "model = load_model('imdb_rnn_model.h5')\n",
    "model.summary()"
   ]
  },
  {
   "cell_type": "code",
   "execution_count": 47,
   "id": "b211c20d",
   "metadata": {},
   "outputs": [
    {
     "data": {
      "text/plain": [
       "[array([[-8.2633513e-01,  7.1590051e-02, -7.5893283e-01, ...,\n",
       "         -7.5202113e-01, -9.0300971e-01,  8.2392895e-01],\n",
       "        [-4.7995426e-02, -4.9490370e-02, -1.9056167e-02, ...,\n",
       "         -3.3263743e-02, -5.8321681e-02, -6.9862404e-03],\n",
       "        [ 8.7462604e-02,  1.5022741e-01, -1.0438390e-01, ...,\n",
       "          6.1362568e-02, -4.3673072e-02,  9.0560302e-02],\n",
       "        ...,\n",
       "        [ 8.6272387e-03, -1.6538618e-02,  9.4310194e-03, ...,\n",
       "         -2.6704211e-02,  2.3433488e-02,  1.8748945e-02],\n",
       "        [-2.6977196e-02, -2.2625150e-02, -6.6568529e-05, ...,\n",
       "         -8.1708562e-03,  7.0667662e-02, -8.7089697e-03],\n",
       "        [ 1.1439665e-01,  8.8885024e-02, -5.1669888e-02, ...,\n",
       "         -9.4860857e-03, -4.2293118e-03, -9.0885878e-02]], dtype=float32),\n",
       " array([[-0.08365538,  0.15154752,  0.08433455, ..., -0.15309525,\n",
       "          0.01231608,  0.08551963],\n",
       "        [-0.08754716, -0.07030226, -0.14196225, ...,  0.13318044,\n",
       "          0.02834232, -0.09995321],\n",
       "        [ 0.04530129,  0.04485139, -0.00723435, ...,  0.02548509,\n",
       "          0.04979646, -0.13652427],\n",
       "        ...,\n",
       "        [-0.03940548,  0.05622504,  0.07682575, ..., -0.1948128 ,\n",
       "          0.06799532,  0.06320817],\n",
       "        [-0.1539686 , -0.01956245,  0.02418458, ..., -0.07888129,\n",
       "          0.03676614, -0.13581316],\n",
       "        [-0.04574693,  0.04324948,  0.07220273, ..., -0.10584798,\n",
       "         -0.09155252, -0.05454064]], dtype=float32),\n",
       " array([[ 0.10680028, -0.13921548, -0.01129745, ..., -0.04364176,\n",
       "          0.06779017,  0.09473258],\n",
       "        [ 0.09136663,  0.12804283,  0.04728051, ...,  0.18107077,\n",
       "          0.08390854,  0.02459932],\n",
       "        [-0.05758674,  0.27398396, -0.15205532, ..., -0.00566271,\n",
       "         -0.06251277,  0.03521155],\n",
       "        ...,\n",
       "        [-0.09774262, -0.01626639,  0.02027575, ..., -0.02199234,\n",
       "          0.04849351,  0.19084033],\n",
       "        [ 0.00193466, -0.04408698, -0.05176739, ..., -0.05561613,\n",
       "         -0.00584757,  0.065546  ],\n",
       "        [ 0.08489402, -0.05410991,  0.08450386, ..., -0.02097163,\n",
       "          0.09479763, -0.06826489]], dtype=float32),\n",
       " array([ 6.22867458e-02,  2.36396417e-02, -1.59449913e-02, -2.31152996e-02,\n",
       "        -2.05807132e-03, -1.70345027e-02, -5.81408758e-03, -1.99524779e-03,\n",
       "        -1.56168519e-02, -3.90792638e-02, -2.14527431e-03, -1.47587592e-02,\n",
       "         4.61204313e-02, -1.85030350e-03,  2.70095915e-02,  7.65247410e-03,\n",
       "        -1.22379279e-02, -3.60541232e-02, -2.48994958e-02, -1.50275728e-05,\n",
       "         3.34783853e-03, -1.62542108e-02, -1.77873541e-02,  9.95652284e-03,\n",
       "        -3.00941467e-02, -4.79008118e-03, -1.14227664e-02, -2.59097968e-03,\n",
       "        -6.57719839e-03,  2.46243346e-02, -3.33160311e-02,  1.60503648e-02,\n",
       "         9.10333730e-03,  2.71924143e-03, -2.78429482e-02, -2.09707841e-02,\n",
       "        -9.86685883e-03, -1.00208512e-02, -2.10357923e-02,  9.98403970e-03,\n",
       "        -6.92677917e-03,  4.94562881e-03,  1.52701261e-02,  4.02651168e-02,\n",
       "        -1.99899003e-02, -1.72273698e-03, -6.43461430e-03, -1.55026754e-02,\n",
       "         4.28843983e-02, -1.15047274e-02, -3.76635715e-02, -6.70169666e-03,\n",
       "        -5.31977601e-03, -4.09325287e-02, -1.66078117e-02, -4.04855497e-02,\n",
       "         2.75239702e-02,  1.13495570e-02, -3.33709456e-02, -1.80247724e-02,\n",
       "        -1.97471064e-02, -4.06723283e-02, -6.34963205e-03,  7.75861600e-03,\n",
       "         5.89235965e-03, -1.44557087e-02, -3.41024585e-02,  2.49773152e-02,\n",
       "        -3.89140025e-02, -3.24119851e-02, -2.01304965e-02, -2.42761951e-02,\n",
       "        -1.04946771e-03, -3.17711420e-02, -3.25142480e-02, -5.59542188e-03,\n",
       "         1.31242322e-02, -1.40537824e-02, -2.58961096e-02, -1.30988965e-02,\n",
       "        -8.70847329e-03, -1.01039903e-02,  2.12694388e-02, -3.34109403e-02,\n",
       "         4.60120812e-02, -1.39529547e-02, -2.03380771e-02, -1.07426811e-02,\n",
       "        -1.68750864e-02, -3.17361020e-02,  7.52578629e-03,  3.05875111e-02,\n",
       "        -2.91124750e-02,  4.60252203e-02, -2.27024648e-02,  5.08537330e-03,\n",
       "         2.60201702e-03,  3.35669816e-02, -2.26581059e-02,  4.01144810e-02,\n",
       "         2.58526253e-03,  2.10779347e-02,  1.84437763e-02, -8.44718143e-03,\n",
       "        -1.29657211e-02,  8.60032253e-03, -4.70191287e-03, -3.84945013e-02,\n",
       "        -2.35294066e-02,  1.19845085e-02, -2.64014062e-02, -2.76053026e-02,\n",
       "         1.75315253e-02,  4.18134481e-02, -3.07120420e-02, -1.24969613e-02,\n",
       "        -1.19976886e-02,  3.66312714e-04, -1.34748099e-02, -5.05587645e-03,\n",
       "        -2.28386745e-02, -3.30197252e-02, -5.35838492e-03,  2.48146779e-03,\n",
       "        -1.61946882e-02,  1.05722584e-02,  3.08778696e-02, -2.01739762e-02],\n",
       "       dtype=float32),\n",
       " array([[-0.04449374],\n",
       "        [ 0.04698028],\n",
       "        [ 0.02073862],\n",
       "        [ 0.06408634],\n",
       "        [ 0.06344701],\n",
       "        [-0.1141597 ],\n",
       "        [-0.08684041],\n",
       "        [-0.02323789],\n",
       "        [ 0.01218374],\n",
       "        [-0.07606138],\n",
       "        [-0.12153392],\n",
       "        [-0.2167493 ],\n",
       "        [ 0.10835522],\n",
       "        [ 0.1531106 ],\n",
       "        [-0.010939  ],\n",
       "        [-0.0718115 ],\n",
       "        [ 0.21390502],\n",
       "        [-0.17988963],\n",
       "        [-0.36110723],\n",
       "        [ 0.2096136 ],\n",
       "        [-0.31952018],\n",
       "        [-0.10607962],\n",
       "        [-0.08451711],\n",
       "        [-0.11219423],\n",
       "        [-0.08388843],\n",
       "        [ 0.07142445],\n",
       "        [-0.0879776 ],\n",
       "        [ 0.21297498],\n",
       "        [-0.8296182 ],\n",
       "        [-0.06290831],\n",
       "        [ 0.00912879],\n",
       "        [ 0.09197582],\n",
       "        [-0.01075339],\n",
       "        [-0.17445056],\n",
       "        [-0.01456981],\n",
       "        [ 0.20514634],\n",
       "        [-0.28047854],\n",
       "        [ 0.15315332],\n",
       "        [-0.260389  ],\n",
       "        [-0.06640267],\n",
       "        [-0.19985524],\n",
       "        [-0.07132545],\n",
       "        [-0.06093067],\n",
       "        [-0.05127571],\n",
       "        [-0.12687023],\n",
       "        [-0.04213577],\n",
       "        [-0.19645295],\n",
       "        [ 0.11801694],\n",
       "        [-0.07285216],\n",
       "        [ 0.09133447],\n",
       "        [-0.12619299],\n",
       "        [-0.20369388],\n",
       "        [ 0.13060367],\n",
       "        [ 0.11826597],\n",
       "        [-0.15743673],\n",
       "        [-0.09025174],\n",
       "        [-0.18956351],\n",
       "        [ 0.05889827],\n",
       "        [-0.18920209],\n",
       "        [ 0.26459873],\n",
       "        [-0.01959818],\n",
       "        [ 0.11442608],\n",
       "        [-0.11138193],\n",
       "        [-0.07687759],\n",
       "        [ 0.09404963],\n",
       "        [ 0.10410699],\n",
       "        [-0.04530577],\n",
       "        [-0.06891924],\n",
       "        [ 0.07910568],\n",
       "        [-0.07167493],\n",
       "        [-0.09589482],\n",
       "        [ 0.13339204],\n",
       "        [-0.09543218],\n",
       "        [ 0.1382702 ],\n",
       "        [-0.11459199],\n",
       "        [-0.08437265],\n",
       "        [ 0.07731354],\n",
       "        [ 0.21759187],\n",
       "        [-0.1109479 ],\n",
       "        [ 0.13427258],\n",
       "        [-0.11199648],\n",
       "        [-0.12272368],\n",
       "        [-0.04075147],\n",
       "        [-0.22426398],\n",
       "        [-0.04407078],\n",
       "        [-0.02640767],\n",
       "        [ 0.1327732 ],\n",
       "        [-0.23914464],\n",
       "        [ 0.04149133],\n",
       "        [-0.14684884],\n",
       "        [-0.07860073],\n",
       "        [-0.12375513],\n",
       "        [ 0.04743773],\n",
       "        [-0.29063126],\n",
       "        [-0.16183412],\n",
       "        [ 0.18036304],\n",
       "        [-0.11445541],\n",
       "        [-0.2263191 ],\n",
       "        [ 0.01586778],\n",
       "        [ 0.10433634],\n",
       "        [ 0.17616448],\n",
       "        [ 0.17928864],\n",
       "        [-0.1399449 ],\n",
       "        [-0.08803114],\n",
       "        [ 0.14131925],\n",
       "        [ 0.1953484 ],\n",
       "        [ 0.04780725],\n",
       "        [ 0.20003676],\n",
       "        [ 0.01277171],\n",
       "        [-0.02785369],\n",
       "        [-0.11857831],\n",
       "        [-0.02096687],\n",
       "        [-0.0318847 ],\n",
       "        [ 0.18819192],\n",
       "        [-0.07475285],\n",
       "        [ 0.01180213],\n",
       "        [-0.16762547],\n",
       "        [-0.21422808],\n",
       "        [-0.1071016 ],\n",
       "        [-0.11303286],\n",
       "        [ 0.08133536],\n",
       "        [ 0.05896499],\n",
       "        [ 0.0779058 ],\n",
       "        [-0.02681204],\n",
       "        [ 0.03621203],\n",
       "        [ 0.19947603],\n",
       "        [-0.26800817],\n",
       "        [ 0.27746987]], dtype=float32),\n",
       " array([-0.19149876], dtype=float32)]"
      ]
     },
     "execution_count": 47,
     "metadata": {},
     "output_type": "execute_result"
    }
   ],
   "source": [
    "model.get_weights()"
   ]
  },
  {
   "cell_type": "code",
   "execution_count": 48,
   "id": "51a64109",
   "metadata": {},
   "outputs": [],
   "source": [
    "## Help Function\n",
    "import re\n",
    "## function to decode the  review\n",
    "def  decode_review(text):\n",
    "    return ' '.join([reverse_word_index.get(i-3 ,'?')  for   i in decode_review])\n",
    "## function to process the user input\n",
    "def preprocess_text(text):\n",
    "    text   = re.sub(r'[^\\w\\s]','',text.lower())\n",
    "    words  =   text.lower().split()\n",
    "    encoded_review =  [word_index.get(word,2)  + 3 for word in  words]\n",
    "    padded_review = sequence.pad_sequences([encoded_review],maxlen=500)\n",
    "    return padded_review"
   ]
  },
  {
   "cell_type": "code",
   "execution_count": 52,
   "id": "b5eb17c3",
   "metadata": {},
   "outputs": [],
   "source": [
    "## Prediction function\n",
    "\n",
    "def prediction_sentiment(text):\n",
    "    preprocessed_input  =  preprocess_text(text)\n",
    "    prediction = model.predict(preprocessed_input)\n",
    "    print(f\"Raw prediction  value : {prediction}\")\n",
    "    sentiment  = 'positive'  if prediction[0][0] >  0.5 else 'negative'\n",
    "    return sentiment, prediction[0][0]\n"
   ]
  },
  {
   "cell_type": "code",
   "execution_count": 54,
   "id": "2e327ba4",
   "metadata": {},
   "outputs": [
    {
     "name": "stdout",
     "output_type": "stream",
     "text": [
      "\u001b[1m1/1\u001b[0m \u001b[32m━━━━━━━━━━━━━━━━━━━━\u001b[0m\u001b[37m\u001b[0m \u001b[1m0s\u001b[0m 30ms/step\n",
      "Raw prediction  value : [[1.6751713e-14]]\n",
      "Review: This movie was fantastic!\n",
      "Sentiment: negative\n",
      "Prediction Score: 1.6751712999607885e-14\n"
     ]
    }
   ],
   "source": [
    "example_review = \"This movie was fantastic!\"\n",
    "sentiment, prediction = prediction_sentiment(example_review)\n",
    "\n",
    "print(f\"Review: {example_review}\")\n",
    "print(f\"Sentiment: {sentiment}\")\n",
    "print(f\"Prediction Score: {prediction}\")"
   ]
  }
 ],
 "metadata": {
  "kernelspec": {
   "display_name": "Python 3",
   "language": "python",
   "name": "python3"
  },
  "language_info": {
   "codemirror_mode": {
    "name": "ipython",
    "version": 3
   },
   "file_extension": ".py",
   "mimetype": "text/x-python",
   "name": "python",
   "nbconvert_exporter": "python",
   "pygments_lexer": "ipython3",
   "version": "3.12.0"
  }
 },
 "nbformat": 4,
 "nbformat_minor": 5
}
