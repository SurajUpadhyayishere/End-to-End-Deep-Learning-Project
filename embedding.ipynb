{
 "cells": [
  {
   "cell_type": "code",
   "execution_count": 1,
   "id": "0bd49fcd",
   "metadata": {},
   "outputs": [],
   "source": [
    "from tensorflow.keras.preprocessing.text import  one_hot"
   ]
  },
  {
   "cell_type": "code",
   "execution_count": 2,
   "id": "8c9bb073",
   "metadata": {},
   "outputs": [],
   "source": [
    "##  sentences\n",
    "sent =  ['the one bottle of milk',\n",
    "'i love the  bottle  of  milk',\n",
    "'i hate  the  garage'\n",
    "'the one bottle of coca cola',\n",
    "'I love dancin with vibes songs',\n",
    "'I think to do  whole india  travel',\n",
    "'I  have Cup of tea',\n",
    "'Rational people are always fustrated'\n",
    "]"
   ]
  },
  {
   "cell_type": "code",
   "execution_count": 3,
   "id": "7600a39d",
   "metadata": {},
   "outputs": [
    {
     "data": {
      "text/plain": [
       "['the one bottle of milk',\n",
       " 'i love the  bottle  of  milk',\n",
       " 'i hate  the  garagethe one bottle of coca cola',\n",
       " 'I love dancin with vibes songs',\n",
       " 'I think to do  whole india  travel',\n",
       " 'I  have Cup of tea',\n",
       " 'Rational people are always fustrated']"
      ]
     },
     "execution_count": 3,
     "metadata": {},
     "output_type": "execute_result"
    }
   ],
   "source": [
    "sent"
   ]
  },
  {
   "cell_type": "code",
   "execution_count": 4,
   "id": "e7ed7280",
   "metadata": {},
   "outputs": [],
   "source": [
    "#Define the  vocabulary size\n",
    "vocab_Size = 10000"
   ]
  },
  {
   "cell_type": "code",
   "execution_count": 5,
   "id": "16f217d6",
   "metadata": {},
   "outputs": [
    {
     "data": {
      "text/plain": [
       "['the one bottle of milk',\n",
       " 'i love the  bottle  of  milk',\n",
       " 'i hate  the  garagethe one bottle of coca cola',\n",
       " 'I love dancin with vibes songs',\n",
       " 'I think to do  whole india  travel',\n",
       " 'I  have Cup of tea',\n",
       " 'Rational people are always fustrated']"
      ]
     },
     "execution_count": 5,
     "metadata": {},
     "output_type": "execute_result"
    }
   ],
   "source": [
    "sent"
   ]
  },
  {
   "cell_type": "code",
   "execution_count": 6,
   "id": "4b10dcb9",
   "metadata": {},
   "outputs": [
    {
     "data": {
      "text/plain": [
       "[[8490, 2214, 3379, 3861, 3572],\n",
       " [7611, 9202, 8490, 3379, 3861, 3572],\n",
       " [7611, 1989, 8490, 5177, 2214, 3379, 3861, 8883, 9308],\n",
       " [7611, 9202, 4060, 4499, 5134, 7105],\n",
       " [7611, 6369, 5992, 7225, 250, 5084, 9928],\n",
       " [7611, 7543, 9718, 3861, 8802],\n",
       " [2890, 8269, 6959, 3779, 3678]]"
      ]
     },
     "execution_count": 6,
     "metadata": {},
     "output_type": "execute_result"
    }
   ],
   "source": [
    "one_hot_representation =  [one_hot(word,vocab_Size)for word  in sent]\n",
    "one_hot_representation"
   ]
  },
  {
   "cell_type": "code",
   "execution_count": 7,
   "id": "02e5bc48",
   "metadata": {},
   "outputs": [],
   "source": [
    "## words embedding representation\n",
    "from tensorflow.keras.layers import Embedding\n",
    "from tensorflow.keras.models import Sequential\n",
    "from tensorflow.keras.utils import pad_sequences\n",
    "#from tensorflow.keras.processing.sequence  import pad_sequences"
   ]
  },
  {
   "cell_type": "code",
   "execution_count": 8,
   "id": "c7bee981",
   "metadata": {},
   "outputs": [],
   "source": [
    "import numpy  as np"
   ]
  },
  {
   "cell_type": "code",
   "execution_count": 9,
   "id": "a3b48af4",
   "metadata": {},
   "outputs": [
    {
     "data": {
      "text/plain": [
       "array([[   0,    0,    0, 8490, 2214, 3379, 3861, 3572],\n",
       "       [   0,    0, 7611, 9202, 8490, 3379, 3861, 3572],\n",
       "       [1989, 8490, 5177, 2214, 3379, 3861, 8883, 9308],\n",
       "       [   0,    0, 7611, 9202, 4060, 4499, 5134, 7105],\n",
       "       [   0, 7611, 6369, 5992, 7225,  250, 5084, 9928],\n",
       "       [   0,    0,    0, 7611, 7543, 9718, 3861, 8802],\n",
       "       [   0,    0,    0, 2890, 8269, 6959, 3779, 3678]], dtype=int32)"
      ]
     },
     "execution_count": 9,
     "metadata": {},
     "output_type": "execute_result"
    }
   ],
   "source": [
    "sent_length = 8\n",
    "embedded_docs = pad_sequences(one_hot_representation, padding='pre', maxlen=sent_length)\n",
    "embedded_docs"
   ]
  },
  {
   "cell_type": "code",
   "execution_count": 10,
   "id": "6fd0e0c3",
   "metadata": {},
   "outputs": [],
   "source": [
    "## feature representation\n",
    "dim = 10"
   ]
  },
  {
   "cell_type": "code",
   "execution_count": 11,
   "id": "a223dda7",
   "metadata": {},
   "outputs": [
    {
     "name": "stderr",
     "output_type": "stream",
     "text": [
      "d:\\Artificilal Intelligence Course\\Deep Learning\\Deep Learning Project\\deep_base\\Lib\\site-packages\\keras\\src\\layers\\core\\embedding.py:90: UserWarning: Argument `input_length` is deprecated. Just remove it.\n",
      "  warnings.warn(\n"
     ]
    }
   ],
   "source": [
    "model = Sequential()\n",
    "model.add(Embedding(vocab_Size,dim,input_length=sent_length))\n",
    "model.compile('adam','mse')"
   ]
  },
  {
   "cell_type": "code",
   "execution_count": 12,
   "id": "7e3622a4",
   "metadata": {},
   "outputs": [
    {
     "data": {
      "text/html": [
       "<pre style=\"white-space:pre;overflow-x:auto;line-height:normal;font-family:Menlo,'DejaVu Sans Mono',consolas,'Courier New',monospace\"><span style=\"font-weight: bold\">Model: \"sequential\"</span>\n",
       "</pre>\n"
      ],
      "text/plain": [
       "\u001b[1mModel: \"sequential\"\u001b[0m\n"
      ]
     },
     "metadata": {},
     "output_type": "display_data"
    },
    {
     "data": {
      "text/html": [
       "<pre style=\"white-space:pre;overflow-x:auto;line-height:normal;font-family:Menlo,'DejaVu Sans Mono',consolas,'Courier New',monospace\">┏━━━━━━━━━━━━━━━━━━━━━━━━━━━━━━━━━┳━━━━━━━━━━━━━━━━━━━━━━━━┳━━━━━━━━━━━━━━━┓\n",
       "┃<span style=\"font-weight: bold\"> Layer (type)                    </span>┃<span style=\"font-weight: bold\"> Output Shape           </span>┃<span style=\"font-weight: bold\">       Param # </span>┃\n",
       "┡━━━━━━━━━━━━━━━━━━━━━━━━━━━━━━━━━╇━━━━━━━━━━━━━━━━━━━━━━━━╇━━━━━━━━━━━━━━━┩\n",
       "│ embedding (<span style=\"color: #0087ff; text-decoration-color: #0087ff\">Embedding</span>)           │ ?                      │   <span style=\"color: #00af00; text-decoration-color: #00af00\">0</span> (unbuilt) │\n",
       "└─────────────────────────────────┴────────────────────────┴───────────────┘\n",
       "</pre>\n"
      ],
      "text/plain": [
       "┏━━━━━━━━━━━━━━━━━━━━━━━━━━━━━━━━━┳━━━━━━━━━━━━━━━━━━━━━━━━┳━━━━━━━━━━━━━━━┓\n",
       "┃\u001b[1m \u001b[0m\u001b[1mLayer (type)                   \u001b[0m\u001b[1m \u001b[0m┃\u001b[1m \u001b[0m\u001b[1mOutput Shape          \u001b[0m\u001b[1m \u001b[0m┃\u001b[1m \u001b[0m\u001b[1m      Param #\u001b[0m\u001b[1m \u001b[0m┃\n",
       "┡━━━━━━━━━━━━━━━━━━━━━━━━━━━━━━━━━╇━━━━━━━━━━━━━━━━━━━━━━━━╇━━━━━━━━━━━━━━━┩\n",
       "│ embedding (\u001b[38;5;33mEmbedding\u001b[0m)           │ ?                      │   \u001b[38;5;34m0\u001b[0m (unbuilt) │\n",
       "└─────────────────────────────────┴────────────────────────┴───────────────┘\n"
      ]
     },
     "metadata": {},
     "output_type": "display_data"
    },
    {
     "data": {
      "text/html": [
       "<pre style=\"white-space:pre;overflow-x:auto;line-height:normal;font-family:Menlo,'DejaVu Sans Mono',consolas,'Courier New',monospace\"><span style=\"font-weight: bold\"> Total params: </span><span style=\"color: #00af00; text-decoration-color: #00af00\">0</span> (0.00 B)\n",
       "</pre>\n"
      ],
      "text/plain": [
       "\u001b[1m Total params: \u001b[0m\u001b[38;5;34m0\u001b[0m (0.00 B)\n"
      ]
     },
     "metadata": {},
     "output_type": "display_data"
    },
    {
     "data": {
      "text/html": [
       "<pre style=\"white-space:pre;overflow-x:auto;line-height:normal;font-family:Menlo,'DejaVu Sans Mono',consolas,'Courier New',monospace\"><span style=\"font-weight: bold\"> Trainable params: </span><span style=\"color: #00af00; text-decoration-color: #00af00\">0</span> (0.00 B)\n",
       "</pre>\n"
      ],
      "text/plain": [
       "\u001b[1m Trainable params: \u001b[0m\u001b[38;5;34m0\u001b[0m (0.00 B)\n"
      ]
     },
     "metadata": {},
     "output_type": "display_data"
    },
    {
     "data": {
      "text/html": [
       "<pre style=\"white-space:pre;overflow-x:auto;line-height:normal;font-family:Menlo,'DejaVu Sans Mono',consolas,'Courier New',monospace\"><span style=\"font-weight: bold\"> Non-trainable params: </span><span style=\"color: #00af00; text-decoration-color: #00af00\">0</span> (0.00 B)\n",
       "</pre>\n"
      ],
      "text/plain": [
       "\u001b[1m Non-trainable params: \u001b[0m\u001b[38;5;34m0\u001b[0m (0.00 B)\n"
      ]
     },
     "metadata": {},
     "output_type": "display_data"
    }
   ],
   "source": [
    "model.summary()"
   ]
  },
  {
   "cell_type": "code",
   "execution_count": 13,
   "id": "950fbe4f",
   "metadata": {},
   "outputs": [
    {
     "name": "stdout",
     "output_type": "stream",
     "text": [
      "\u001b[1m1/1\u001b[0m \u001b[32m━━━━━━━━━━━━━━━━━━━━\u001b[0m\u001b[37m\u001b[0m \u001b[1m0s\u001b[0m 98ms/step\n",
      "[[[-0.03012416  0.0443398  -0.02224933  0.009293   -0.03106672\n",
      "    0.00726967  0.0165646  -0.03134221  0.00416547 -0.02229127]\n",
      "  [-0.03012416  0.0443398  -0.02224933  0.009293   -0.03106672\n",
      "    0.00726967  0.0165646  -0.03134221  0.00416547 -0.02229127]\n",
      "  [-0.03012416  0.0443398  -0.02224933  0.009293   -0.03106672\n",
      "    0.00726967  0.0165646  -0.03134221  0.00416547 -0.02229127]\n",
      "  [ 0.02817949 -0.00241449 -0.02437305 -0.0399299  -0.04131336\n",
      "    0.04304043 -0.03597977  0.04814829 -0.03256647  0.02072996]\n",
      "  [-0.0189568   0.01809422 -0.01758113 -0.00328086  0.0278439\n",
      "    0.01507041 -0.00889287 -0.04543583 -0.02628264 -0.01538976]\n",
      "  [-0.04229906 -0.04606399 -0.0179046  -0.03605927  0.00922803\n",
      "    0.01391369 -0.01335453 -0.03248336  0.04423014  0.02629353]\n",
      "  [ 0.03800799  0.03362131 -0.01092596  0.01118407  0.02088923\n",
      "    0.01435513  0.01571706 -0.0097702  -0.00837893  0.0251323 ]\n",
      "  [-0.00816778 -0.03647082 -0.00446781  0.02640611 -0.00578898\n",
      "   -0.04319992 -0.00497576 -0.01785492 -0.01446657  0.00947496]]]\n"
     ]
    }
   ],
   "source": [
    "# add batch  dimension to the input\n",
    "single_input =  np.expand_dims(embedded_docs[0],axis=0)\n",
    "\n",
    "#Predict using the model\n",
    "output  =  model.predict(single_input)\n",
    "print(output)"
   ]
  },
  {
   "cell_type": "code",
   "execution_count": 14,
   "id": "3b4483dd",
   "metadata": {},
   "outputs": [
    {
     "name": "stdout",
     "output_type": "stream",
     "text": [
      "Shape of the output:  (1, 8, 10)\n"
     ]
    }
   ],
   "source": [
    "print(\"Shape of the output: \",output.shape)"
   ]
  },
  {
   "cell_type": "code",
   "execution_count": 15,
   "id": "4f635456",
   "metadata": {},
   "outputs": [
    {
     "data": {
      "text/plain": [
       "array([   0,    0,    0, 8490, 2214, 3379, 3861, 3572], dtype=int32)"
      ]
     },
     "execution_count": 15,
     "metadata": {},
     "output_type": "execute_result"
    }
   ],
   "source": [
    "embedded_docs[0]"
   ]
  }
 ],
 "metadata": {
  "kernelspec": {
   "display_name": "Python 3",
   "language": "python",
   "name": "python3"
  },
  "language_info": {
   "codemirror_mode": {
    "name": "ipython",
    "version": 3
   },
   "file_extension": ".py",
   "mimetype": "text/x-python",
   "name": "python",
   "nbconvert_exporter": "python",
   "pygments_lexer": "ipython3",
   "version": "3.12.0"
  }
 },
 "nbformat": 4,
 "nbformat_minor": 5
}
